{
  "nbformat": 4,
  "nbformat_minor": 0,
  "metadata": {
    "colab": {
      "name": "35_YQDPW_1 (UIUC)_Thihan.ipynb",
      "provenance": []
    },
    "kernelspec": {
      "name": "python3",
      "display_name": "Python 3"
    },
    "language_info": {
      "name": "python"
    }
  },
  "cells": [
    {
      "cell_type": "markdown",
      "metadata": {
        "id": "fQNx70NI3SJh"
      },
      "source": [
        "<img src=\"https://news.illinois.edu/files/6367/543635/116641.jpg\" alt=\"University of Illinois\" width=\"250\"/>\n",
        "\n",
        "# 35_YQDPW_1 (UIUC) competition code #\n",
        "By Thihan Moe Kyaw\n",
        "* <tkyaw2@illinois.edu>\n",
        "\n",
        "# Description of the Competition\n",
        "\n",
        "A large restaurant chain owns restaurants located along major highways. The average revenue of a restaurant located at distance 𝑥 from the highway is 𝑅(𝑥). For simplicity, the variable distance to the highway is normalized to be in the interval [1,2]. The function 𝑅(𝑥) is unknown. The goal of this competition is to predict the value of 𝑅(𝑥) for several values of distances to the highway. Currently, the restaurant chain is located at 40 different locations. You will have access to\n",
        "$ {(𝑥𝑖,𝑅(𝑥𝑖))}^{30}_{𝑖=1} $ , i.e., the distance to the highway and average revenue for 30 of these restaurants. Using these data, you must submit a prediction of average revenue for the remaining 10 restaurants, using their distances to the highway.\n",
        "\n",
        "You will find the necessary datasets in the Data tab. You can send up to 10 different submissions each day until the end of the competition. The deadline of the competition is Sunday September 26th at 23:59:59.\n",
        "\n"
      ]
    },
    {
      "cell_type": "markdown",
      "metadata": {
        "id": "OxnVDYvzAgHD"
      },
      "source": [
        "### imports and graphics configurations ###"
      ]
    },
    {
      "cell_type": "code",
      "metadata": {
        "id": "tlDFHHig3mES"
      },
      "source": [
        "import os\n",
        "import numpy\n",
        "import pandas\n",
        "import time\n",
        "import random\n",
        "import matplotlib\n",
        "import operator\n",
        "#%matplotlib notebook\n",
        "import matplotlib.pyplot as plt\n",
        "import matplotlib.ticker as mtick\n",
        "import scipy.stats\n",
        "#from pandas.plotting import autocorrelation_plot\n",
        "import matplotlib.offsetbox as offsetbox\n",
        "from matplotlib.ticker import StrMethodFormatter\n",
        "from sklearn.linear_model import LinearRegression\n",
        "from sklearn.metrics import mean_squared_error, r2_score\n",
        "from sklearn.preprocessing import PolynomialFeatures\n",
        "\n",
        "import imageio\n",
        "import PIL\n",
        "\n",
        "def saver(fname):\n",
        "    plt.savefig(fname+\".png\",bbox_inches=\"tight\")\n",
        "    \n",
        "def legend(pos=\"bottom\",ncol=3,extra=False):\n",
        "    if pos==\"bottom\":\n",
        "        extra = 0.15 if extra else 0\n",
        "        plt.legend(bbox_to_anchor=(0.5,-0.2-extra), loc='upper center',facecolor=\"lightgray\",ncol=ncol)\n",
        "    elif pos==\"side\":\n",
        "        plt.legend(bbox_to_anchor=(1.1,0.5), loc='center left',facecolor=\"lightgray\",ncol=1)\n",
        "        \n",
        "def textbox(txt,fname=None):\n",
        "    plt.figure(figsize=(1,1))\n",
        "    plt.gca().add_artist(offsetbox.AnchoredText(\"\\n\".join(txt), loc=\"center\",prop=dict(size=30)))\n",
        "    plt.axis('off')\n",
        "    if fname is not None:\n",
        "        saver(fname)\n",
        "    plt.show()\n",
        "    plt.close()"
      ],
      "execution_count": null,
      "outputs": []
    },
    {
      "cell_type": "code",
      "metadata": {
        "id": "MKAR5r2O3z-Y"
      },
      "source": [
        "params={\n",
        "    \"font.size\":15,\n",
        "    \"lines.linewidth\":5\n",
        "}\n",
        "plt.rcParams.update(params)"
      ],
      "execution_count": null,
      "outputs": []
    },
    {
      "cell_type": "code",
      "metadata": {
        "colab": {
          "base_uri": "https://localhost:8080/"
        },
        "id": "YJJQR7Tk30ja",
        "outputId": "e3677908-20d8-450e-a7b2-80fa0a32a10d"
      },
      "source": [
        "pngfiles=[f for f in os.listdir(\".\") if f.endswith(\".png\")]\n",
        "print(\"existing png files: \"+str(pngfiles))\n",
        "#print([os.remove(f) for f in pngfiles])"
      ],
      "execution_count": null,
      "outputs": [
        {
          "output_type": "stream",
          "name": "stdout",
          "text": [
            "existing png files: []\n"
          ]
        }
      ]
    },
    {
      "cell_type": "code",
      "metadata": {
        "id": "2BYFJcgr34ua"
      },
      "source": [
        "def getfile(location_pair,**kwargs): #tries to get local version and then defaults to google drive version\n",
        "    (loc,gdrive)=location_pair\n",
        "    try:\n",
        "        out=pandas.read_csv(loc,**kwargs)\n",
        "    except FileNotFoundError:\n",
        "        print(\"local file not found; accessing Google Drive\")\n",
        "        loc = 'https://drive.google.com/uc?export=download&id='+gdrive.split('/')[-2]\n",
        "        out=pandas.read_csv(loc,**kwargs)\n",
        "    return out"
      ],
      "execution_count": null,
      "outputs": []
    },
    {
      "cell_type": "markdown",
      "metadata": {
        "id": "pd6R8dvZ5vkD"
      },
      "source": [
        ""
      ]
    },
    {
      "cell_type": "code",
      "metadata": {
        "id": "e5dAL9HU38ou"
      },
      "source": [
        "url_train =\"https://www.kaggle.com/c/35-yqdpw-1-uiuc/data?select=train_35_YQDPW_1.csv\"\n",
        "fname_train=(\"train_35_YQDPW_1.csv\",\"https://drive.google.com/file/d/1Ps4SYA-BJhZELx8_duvs1B2ExDF2aYXr/view?usp=sharing\")\n",
        "plot_title_train =\"Revenue of each restaurant\"\n",
        "data_color_train =\"red\"\n",
        "markersize=2\n",
        "thinlinesize=2\n",
        "textboxsize=(5,0.5)\n",
        "\n",
        "url_test =\"https://www.kaggle.com/c/35-yqdpw-1-uiuc/data?select=test_35_YQDPW_1.csv\"\n",
        "fname_test=(\"test_35_YQDPW_1.csv\",\"https://drive.google.com/file/d/1QuPOMihjCNK804crx0aQsMhQIoWZEXCb/view?usp=sharing\")\n",
        "plot_title_test =\"Revenue of each restaurant\"\n",
        "data_color_test= \"blue\"\n",
        "markersize=2\n",
        "thinlinesize=2\n",
        "textboxsize=(5,0.5)"
      ],
      "execution_count": null,
      "outputs": []
    },
    {
      "cell_type": "markdown",
      "metadata": {
        "id": "gecRKE9n7ejQ"
      },
      "source": [
        "### load data ###"
      ]
    },
    {
      "cell_type": "code",
      "metadata": {
        "colab": {
          "base_uri": "https://localhost:8080/"
        },
        "id": "LJh4qYn-7fHc",
        "outputId": "d2c002f6-6f06-4879-9e43-715554334c9c"
      },
      "source": [
        "data_raw_test = getfile(fname_test)\n",
        "data_raw_train = getfile(fname_train)"
      ],
      "execution_count": null,
      "outputs": [
        {
          "output_type": "stream",
          "name": "stdout",
          "text": [
            "local file not found; accessing Google Drive\n",
            "local file not found; accessing Google Drive\n"
          ]
        }
      ]
    },
    {
      "cell_type": "code",
      "metadata": {
        "colab": {
          "base_uri": "https://localhost:8080/",
          "height": 204
        },
        "id": "MsirL8O19Tcb",
        "outputId": "f7c6d89e-9b39-468a-a96c-1b64db46a6f4"
      },
      "source": [
        "data_raw_test.head()"
      ],
      "execution_count": null,
      "outputs": [
        {
          "output_type": "execute_result",
          "data": {
            "text/html": [
              "<div>\n",
              "<style scoped>\n",
              "    .dataframe tbody tr th:only-of-type {\n",
              "        vertical-align: middle;\n",
              "    }\n",
              "\n",
              "    .dataframe tbody tr th {\n",
              "        vertical-align: top;\n",
              "    }\n",
              "\n",
              "    .dataframe thead th {\n",
              "        text-align: right;\n",
              "    }\n",
              "</style>\n",
              "<table border=\"1\" class=\"dataframe\">\n",
              "  <thead>\n",
              "    <tr style=\"text-align: right;\">\n",
              "      <th></th>\n",
              "      <th>x</th>\n",
              "    </tr>\n",
              "  </thead>\n",
              "  <tbody>\n",
              "    <tr>\n",
              "      <th>0</th>\n",
              "      <td>1.088136</td>\n",
              "    </tr>\n",
              "    <tr>\n",
              "      <th>1</th>\n",
              "      <td>1.091455</td>\n",
              "    </tr>\n",
              "    <tr>\n",
              "      <th>2</th>\n",
              "      <td>1.110336</td>\n",
              "    </tr>\n",
              "    <tr>\n",
              "      <th>3</th>\n",
              "      <td>1.119733</td>\n",
              "    </tr>\n",
              "    <tr>\n",
              "      <th>4</th>\n",
              "      <td>1.141716</td>\n",
              "    </tr>\n",
              "  </tbody>\n",
              "</table>\n",
              "</div>"
            ],
            "text/plain": [
              "          x\n",
              "0  1.088136\n",
              "1  1.091455\n",
              "2  1.110336\n",
              "3  1.119733\n",
              "4  1.141716"
            ]
          },
          "metadata": {},
          "execution_count": 8
        }
      ]
    },
    {
      "cell_type": "code",
      "metadata": {
        "colab": {
          "base_uri": "https://localhost:8080/",
          "height": 204
        },
        "id": "m1453ReVAIK9",
        "outputId": "0d35f686-7ab3-4d25-af97-0093f679f129"
      },
      "source": [
        "data_raw_train.head()"
      ],
      "execution_count": null,
      "outputs": [
        {
          "output_type": "execute_result",
          "data": {
            "text/html": [
              "<div>\n",
              "<style scoped>\n",
              "    .dataframe tbody tr th:only-of-type {\n",
              "        vertical-align: middle;\n",
              "    }\n",
              "\n",
              "    .dataframe tbody tr th {\n",
              "        vertical-align: top;\n",
              "    }\n",
              "\n",
              "    .dataframe thead th {\n",
              "        text-align: right;\n",
              "    }\n",
              "</style>\n",
              "<table border=\"1\" class=\"dataframe\">\n",
              "  <thead>\n",
              "    <tr style=\"text-align: right;\">\n",
              "      <th></th>\n",
              "      <th>x</th>\n",
              "      <th>R</th>\n",
              "    </tr>\n",
              "  </thead>\n",
              "  <tbody>\n",
              "    <tr>\n",
              "      <th>0</th>\n",
              "      <td>1.018432</td>\n",
              "      <td>36.75121</td>\n",
              "    </tr>\n",
              "    <tr>\n",
              "      <th>1</th>\n",
              "      <td>1.025323</td>\n",
              "      <td>36.82063</td>\n",
              "    </tr>\n",
              "    <tr>\n",
              "      <th>2</th>\n",
              "      <td>1.049203</td>\n",
              "      <td>36.68162</td>\n",
              "    </tr>\n",
              "    <tr>\n",
              "      <th>3</th>\n",
              "      <td>1.051312</td>\n",
              "      <td>35.85892</td>\n",
              "    </tr>\n",
              "    <tr>\n",
              "      <th>4</th>\n",
              "      <td>1.057825</td>\n",
              "      <td>36.37699</td>\n",
              "    </tr>\n",
              "  </tbody>\n",
              "</table>\n",
              "</div>"
            ],
            "text/plain": [
              "          x         R\n",
              "0  1.018432  36.75121\n",
              "1  1.025323  36.82063\n",
              "2  1.049203  36.68162\n",
              "3  1.051312  35.85892\n",
              "4  1.057825  36.37699"
            ]
          },
          "metadata": {},
          "execution_count": 9
        }
      ]
    },
    {
      "cell_type": "code",
      "metadata": {
        "id": "isEYhf6XA2_a",
        "colab": {
          "base_uri": "https://localhost:8080/"
        },
        "outputId": "3e8aabe4-f078-480d-f160-18ef53369be9"
      },
      "source": [
        "(feature,label)=(\"x\",\"R\")\n",
        "data_train = data_raw_train.copy()\n",
        "data_train.index+=1\n",
        "data_train.index.name=\"record number\"\n",
        "XY=data_train[[feature,label]].dropna(axis='index')\n",
        "X=XY[feature].squeeze()\n",
        "Y=XY[label].squeeze()\n",
        "\n",
        "data_test = data_raw_test.copy()\n",
        "data_test.index+=1\n",
        "data_test.index.name=\"record number\"\n",
        "X_test=data_test[feature].dropna(axis='index')\n",
        "print(X_test)\n",
        "# X_test=XY_test[feature].squeeze()"
      ],
      "execution_count": null,
      "outputs": [
        {
          "output_type": "stream",
          "name": "stdout",
          "text": [
            "record number\n",
            "1     1.088136\n",
            "2     1.091455\n",
            "3     1.110336\n",
            "4     1.119733\n",
            "5     1.141716\n",
            "6     1.388930\n",
            "7     1.393720\n",
            "8     1.610129\n",
            "9     1.632896\n",
            "10    1.657423\n",
            "Name: x, dtype: float64\n"
          ]
        }
      ]
    },
    {
      "cell_type": "code",
      "metadata": {
        "id": "wGqzw9eGC-Ly"
      },
      "source": [
        "data_train.head(1).transpose().to_latex(buf=\"sample_data.tex\",bold_rows=True)"
      ],
      "execution_count": null,
      "outputs": []
    },
    {
      "cell_type": "code",
      "metadata": {
        "colab": {
          "base_uri": "https://localhost:8080/",
          "height": 491
        },
        "id": "QyOdzrFIDDCv",
        "outputId": "d0a20136-4de2-40ee-f541-1710216af452"
      },
      "source": [
        "plt.figure()\n",
        "plt.scatter(X,Y,color=data_color_train,s=markersize)\n",
        "title=[]\n",
        "title.append(plot_title)\n",
        "plt.title(\"\\n\".join(title))\n",
        "plt.xlabel(\"distance from the highway ({0:s})\".format(feature))\n",
        "plt.ylabel(\"Revenue of a restaurant ({0:s})\".format(label))\n",
        "#tick = mtick.StrMethodFormatter(\"${x:,.0f}\")\n",
        "#plt.gca().yaxis.set_major_formatter(tick) \n",
        "saver(\"xyplot\")\n",
        "plt.show()\n",
        "plt.close()"
      ],
      "execution_count": null,
      "outputs": [
        {
          "output_type": "error",
          "ename": "NameError",
          "evalue": "ignored",
          "traceback": [
            "\u001b[0;31m---------------------------------------------------------------------------\u001b[0m",
            "\u001b[0;31mNameError\u001b[0m                                 Traceback (most recent call last)",
            "\u001b[0;32m<ipython-input-12-4b532d6c6275>\u001b[0m in \u001b[0;36m<module>\u001b[0;34m()\u001b[0m\n\u001b[1;32m      2\u001b[0m \u001b[0mplt\u001b[0m\u001b[0;34m.\u001b[0m\u001b[0mscatter\u001b[0m\u001b[0;34m(\u001b[0m\u001b[0mX\u001b[0m\u001b[0;34m,\u001b[0m\u001b[0mY\u001b[0m\u001b[0;34m,\u001b[0m\u001b[0mcolor\u001b[0m\u001b[0;34m=\u001b[0m\u001b[0mdata_color_train\u001b[0m\u001b[0;34m,\u001b[0m\u001b[0ms\u001b[0m\u001b[0;34m=\u001b[0m\u001b[0mmarkersize\u001b[0m\u001b[0;34m)\u001b[0m\u001b[0;34m\u001b[0m\u001b[0;34m\u001b[0m\u001b[0m\n\u001b[1;32m      3\u001b[0m \u001b[0mtitle\u001b[0m\u001b[0;34m=\u001b[0m\u001b[0;34m[\u001b[0m\u001b[0;34m]\u001b[0m\u001b[0;34m\u001b[0m\u001b[0;34m\u001b[0m\u001b[0m\n\u001b[0;32m----> 4\u001b[0;31m \u001b[0mtitle\u001b[0m\u001b[0;34m.\u001b[0m\u001b[0mappend\u001b[0m\u001b[0;34m(\u001b[0m\u001b[0mplot_title\u001b[0m\u001b[0;34m)\u001b[0m\u001b[0;34m\u001b[0m\u001b[0;34m\u001b[0m\u001b[0m\n\u001b[0m\u001b[1;32m      5\u001b[0m \u001b[0mplt\u001b[0m\u001b[0;34m.\u001b[0m\u001b[0mtitle\u001b[0m\u001b[0;34m(\u001b[0m\u001b[0;34m\"\\n\"\u001b[0m\u001b[0;34m.\u001b[0m\u001b[0mjoin\u001b[0m\u001b[0;34m(\u001b[0m\u001b[0mtitle\u001b[0m\u001b[0;34m)\u001b[0m\u001b[0;34m)\u001b[0m\u001b[0;34m\u001b[0m\u001b[0;34m\u001b[0m\u001b[0m\n\u001b[1;32m      6\u001b[0m \u001b[0mplt\u001b[0m\u001b[0;34m.\u001b[0m\u001b[0mxlabel\u001b[0m\u001b[0;34m(\u001b[0m\u001b[0;34m\"distance from the highway ({0:s})\"\u001b[0m\u001b[0;34m.\u001b[0m\u001b[0mformat\u001b[0m\u001b[0;34m(\u001b[0m\u001b[0mfeature\u001b[0m\u001b[0;34m)\u001b[0m\u001b[0;34m)\u001b[0m\u001b[0;34m\u001b[0m\u001b[0;34m\u001b[0m\u001b[0m\n",
            "\u001b[0;31mNameError\u001b[0m: name 'plot_title' is not defined"
          ]
        },
        {
          "output_type": "display_data",
          "data": {
            "image/png": "[encoded data removed]",
            "text/plain": [
              "<Figure size 432x288 with 1 Axes>"
            ]
          },
          "metadata": {
            "needs_background": "light"
          }
        }
      ]
    },
    {
      "cell_type": "markdown",
      "metadata": {
        "id": "bb-ENz-HH18C"
      },
      "source": [
        "# Try linear regression"
      ]
    },
    {
      "cell_type": "code",
      "metadata": {
        "id": "5I57GEr_DGi7",
        "colab": {
          "base_uri": "https://localhost:8080/"
        },
        "outputId": "b2d9f63f-feca-469d-a96f-bc57f337d91f"
      },
      "source": [
        "m_opt,b_opt,_,_,_=scipy.stats.linregress(X,Y)\n",
        "print(\"m_opt = {0:} and b_opt= {1:}\".format(m_opt,b_opt))\n",
        "\n",
        "m_opt_train,b_opt_train,_,_,_=scipy.stats.linregress(X,Y)\n",
        "print(\"m_opt_train = {0:} and b_opt_train= {1:}\".format(m_opt_train,b_opt_train))\n",
        "corcoeff=numpy.corrcoef(X,Y)"
      ],
      "execution_count": null,
      "outputs": [
        {
          "output_type": "stream",
          "name": "stdout",
          "text": [
            "m_opt = -3.2970469100211433 and b_opt= 39.421153704139954\n",
            "m_opt_train = -3.2970469100211433 and b_opt_train= 39.421153704139954\n"
          ]
        }
      ]
    },
    {
      "cell_type": "code",
      "metadata": {
        "id": "xVGddWIxEYZm",
        "colab": {
          "base_uri": "https://localhost:8080/",
          "height": 490
        },
        "outputId": "a3752de6-6add-403e-881a-959f8446aca9"
      },
      "source": [
        "plt.figure()\n",
        "plt.scatter(X,Y,color=data_color_train,s=markersize)\n",
        "x_range=numpy.array(plt.xlim())\n",
        "y_range=numpy.array(plt.ylim())\n",
        "plt.plot(x_range,m_opt_train*x_range + b_opt_train,color=\"green\",label=r\"$y=\\rho x$ + b\")\n",
        "title=[]\n",
        "title.append(plot_title)\n",
        "title.append(\"normalized data\")\n",
        "plt.title(\"\\n\".join(title))\n",
        "plt.xlabel(\"x ({0:s})\".format(feature))\n",
        "plt.ylabel(\"y ({0:s})\".format(label))\n",
        "legend(\"bottom\")\n",
        "saver(\"xyplot_scored_line\")\n",
        "plt.show()\n",
        "plt.close()"
      ],
      "execution_count": null,
      "outputs": [
        {
          "output_type": "error",
          "ename": "NameError",
          "evalue": "ignored",
          "traceback": [
            "\u001b[0;31m---------------------------------------------------------------------------\u001b[0m",
            "\u001b[0;31mNameError\u001b[0m                                 Traceback (most recent call last)",
            "\u001b[0;32m<ipython-input-14-c6f6d7e62826>\u001b[0m in \u001b[0;36m<module>\u001b[0;34m()\u001b[0m\n\u001b[1;32m      5\u001b[0m \u001b[0mplt\u001b[0m\u001b[0;34m.\u001b[0m\u001b[0mplot\u001b[0m\u001b[0;34m(\u001b[0m\u001b[0mx_range\u001b[0m\u001b[0;34m,\u001b[0m\u001b[0mm_opt_train\u001b[0m\u001b[0;34m*\u001b[0m\u001b[0mx_range\u001b[0m \u001b[0;34m+\u001b[0m \u001b[0mb_opt_train\u001b[0m\u001b[0;34m,\u001b[0m\u001b[0mcolor\u001b[0m\u001b[0;34m=\u001b[0m\u001b[0;34m\"green\"\u001b[0m\u001b[0;34m,\u001b[0m\u001b[0mlabel\u001b[0m\u001b[0;34m=\u001b[0m\u001b[0;34mr\"$y=\\rho x$ + b\"\u001b[0m\u001b[0;34m)\u001b[0m\u001b[0;34m\u001b[0m\u001b[0;34m\u001b[0m\u001b[0m\n\u001b[1;32m      6\u001b[0m \u001b[0mtitle\u001b[0m\u001b[0;34m=\u001b[0m\u001b[0;34m[\u001b[0m\u001b[0;34m]\u001b[0m\u001b[0;34m\u001b[0m\u001b[0;34m\u001b[0m\u001b[0m\n\u001b[0;32m----> 7\u001b[0;31m \u001b[0mtitle\u001b[0m\u001b[0;34m.\u001b[0m\u001b[0mappend\u001b[0m\u001b[0;34m(\u001b[0m\u001b[0mplot_title\u001b[0m\u001b[0;34m)\u001b[0m\u001b[0;34m\u001b[0m\u001b[0;34m\u001b[0m\u001b[0m\n\u001b[0m\u001b[1;32m      8\u001b[0m \u001b[0mtitle\u001b[0m\u001b[0;34m.\u001b[0m\u001b[0mappend\u001b[0m\u001b[0;34m(\u001b[0m\u001b[0;34m\"normalized data\"\u001b[0m\u001b[0;34m)\u001b[0m\u001b[0;34m\u001b[0m\u001b[0;34m\u001b[0m\u001b[0m\n\u001b[1;32m      9\u001b[0m \u001b[0mplt\u001b[0m\u001b[0;34m.\u001b[0m\u001b[0mtitle\u001b[0m\u001b[0;34m(\u001b[0m\u001b[0;34m\"\\n\"\u001b[0m\u001b[0;34m.\u001b[0m\u001b[0mjoin\u001b[0m\u001b[0;34m(\u001b[0m\u001b[0mtitle\u001b[0m\u001b[0;34m)\u001b[0m\u001b[0;34m)\u001b[0m\u001b[0;34m\u001b[0m\u001b[0;34m\u001b[0m\u001b[0m\n",
            "\u001b[0;31mNameError\u001b[0m: name 'plot_title' is not defined"
          ]
        },
        {
          "output_type": "display_data",
          "data": {
            "image/png": "[encoded data removed]",
            "text/plain": [
              "<Figure size 432x288 with 1 Axes>"
            ]
          },
          "metadata": {
            "needs_background": "light"
          }
        }
      ]
    },
    {
      "cell_type": "markdown",
      "metadata": {
        "id": "BBooW9eYLhbP"
      },
      "source": [
        "### Try polinomial regression of degree n ###"
      ]
    },
    {
      "cell_type": "code",
      "metadata": {
        "id": "84mPL2BEJDoS",
        "colab": {
          "base_uri": "https://localhost:8080/"
        },
        "outputId": "e15d557a-a605-4af1-ebf2-44d4777aaa84"
      },
      "source": [
        "x = X[:, numpy.newaxis]\n",
        "x_test = X_test[:, numpy.newaxis]\n",
        "y = Y[:, numpy.newaxis]\n",
        "\n",
        "# To work on at free time\n",
        "# tot_poly_reg = 10\n",
        "# for i in range(len(tot_poly_reg)+1):\n",
        "#   if i > 0:\n",
        "#     polynomial_features= PolynomialFeatures(degree=i)\n",
        "#     exec(f'x_poly_{i} = polynomial_features.fit_transform(x)')\n",
        "#     exec(f'model_{i} = LinearRegression()')\n",
        "#     exec(f'model_{i}.fit(x_poly_{i}, y)')\n",
        "#     exec(f'y_poly_pred_{i} = model_{i}.predict(x_poly_{i})')\n",
        "#     exec(f'rmse_{i} = numpy.sqrt(mean_squared_error(y,y_poly_pred_{i}))')\n",
        "#     exec(f'r2_{i}' = r2_score(y,y_poly_pred_{i})'')\n",
        "\n",
        "\n",
        "#Degree 3 regression\n",
        "polynomial_features= PolynomialFeatures(degree=3)\n",
        "x_poly_3 = polynomial_features.fit_transform(x)\n",
        "\n",
        "model_3 = LinearRegression()\n",
        "model_3.fit(x_poly_3, y)\n",
        "y_poly_3_pred = model_3.predict(x_poly_3)\n",
        "\n",
        "#Degree 4 regression\n",
        "polynomial_features= PolynomialFeatures(degree=4)\n",
        "x_poly_4 = polynomial_features.fit_transform(x)\n",
        "\n",
        "model_4 = LinearRegression()\n",
        "model_4.fit(x_poly_4, y)\n",
        "y_poly_4_pred = model_4.predict(x_poly_4)\n",
        "\n",
        "#Degree 5 regression\n",
        "polynomial_features= PolynomialFeatures(degree=5)\n",
        "x_poly_5 = polynomial_features.fit_transform(x)\n",
        "\n",
        "model_5 = LinearRegression()\n",
        "model_5.fit(x_poly_5, y)\n",
        "y_poly_5_pred = model_5.predict(x_poly_5)\n",
        "\n",
        "#RMSE and R^2 score\n",
        "rmse_3 = numpy.sqrt(mean_squared_error(y,y_poly_3_pred))\n",
        "r2_3 = r2_score(y,y_poly_3_pred)\n",
        "rmse_4 = numpy.sqrt(mean_squared_error(y,y_poly_4_pred))\n",
        "r2_4 = r2_score(y,y_poly_4_pred)\n",
        "rmse_5 = numpy.sqrt(mean_squared_error(y,y_poly_5_pred))\n",
        "r2_5 = r2_score(y,y_poly_5_pred)\n",
        "\n",
        "print(\"RSME for degree 3: \", rmse_3)\n",
        "print(\"r2_3: \", r2_3)\n",
        "print(\"RSME for degree 4: \", rmse_4)\n",
        "print(\"r2_4: \", r2_4)\n",
        "print(\"RSME for degree 5: \", rmse_5)\n",
        "print(\"r2_5: \", r2_5)"
      ],
      "execution_count": null,
      "outputs": [
        {
          "output_type": "stream",
          "name": "stdout",
          "text": [
            "RSME for degree 3:  0.3906312187127765\n",
            "r2_3:  0.8391259055432996\n",
            "RSME for degree 4:  0.20972098807728948\n",
            "r2_4:  0.9536301160960933\n",
            "RSME for degree 5:  0.1954348881466441\n",
            "r2_5:  0.9597323386678207\n"
          ]
        },
        {
          "output_type": "stream",
          "name": "stderr",
          "text": [
            "/usr/local/lib/python3.7/dist-packages/ipykernel_launcher.py:1: FutureWarning: Support for multi-dimensional indexing (e.g. `obj[:, None]`) is deprecated and will be removed in a future version.  Convert to a numpy array before indexing instead.\n",
            "  \"\"\"Entry point for launching an IPython kernel.\n",
            "/usr/local/lib/python3.7/dist-packages/ipykernel_launcher.py:2: FutureWarning: Support for multi-dimensional indexing (e.g. `obj[:, None]`) is deprecated and will be removed in a future version.  Convert to a numpy array before indexing instead.\n",
            "  \n",
            "/usr/local/lib/python3.7/dist-packages/ipykernel_launcher.py:3: FutureWarning: Support for multi-dimensional indexing (e.g. `obj[:, None]`) is deprecated and will be removed in a future version.  Convert to a numpy array before indexing instead.\n",
            "  This is separate from the ipykernel package so we can avoid doing imports until\n"
          ]
        }
      ]
    },
    {
      "cell_type": "markdown",
      "metadata": {
        "id": "kHA0g1GYj0Md"
      },
      "source": [
        "### Use 4th degree regression and predict the R ###"
      ]
    },
    {
      "cell_type": "code",
      "metadata": {
        "id": "ETmOx3yYWSeb"
      },
      "source": [
        "(feature,label)=(\"x\",\"R\")\n",
        "#Degree 4 regression and using it on fit data\n",
        "polynomial_features = PolynomialFeatures(degree=1)\n",
        "x_poly_1 = polynomial_features.fit_transform(x)\n",
        "x_test_poly_1 = polynomial_features.fit_transform(x_test)\n",
        "\n",
        "model_1 = LinearRegression()\n",
        "model_1.fit(x_poly_1, y)\n",
        "y_predicted = model_1.predict(x_test_poly_1)"
      ],
      "execution_count": null,
      "outputs": []
    },
    {
      "cell_type": "markdown",
      "metadata": {
        "id": "KrEC2ERzkD4c"
      },
      "source": [
        "### Plot prediction ###"
      ]
    },
    {
      "cell_type": "code",
      "metadata": {
        "id": "KcuSqnNvOGyR",
        "colab": {
          "base_uri": "https://localhost:8080/",
          "height": 504
        },
        "outputId": "24ae1148-e292-438b-b9ea-0d952d88957c"
      },
      "source": [
        "plt.scatter(x, y)\n",
        "plt.scatter(x_test, y_predicted, color = \"b\")\n",
        "# sort the values of x before line plot\n",
        "sort_axis = operator.itemgetter(0)\n",
        "# sorted_zip = sorted(zip(x_test,y_poly_4_pred), key=sort_axis)\n",
        "#x, y_poly_pred = zip(*sorted_zip)\n",
        "plt.xlabel(\"({0:s})\".format(feature))\n",
        "plt.ylabel(\"({0:s})\".format(label))\n",
        "# title=[]\n",
        "# title.append(plot_title)\n",
        "# plt.title(\"\\n\".join(title))\n",
        "# plt.plot(x, y_poly_3_pred, label= \"Regression using polynomial of degree 3\", color='m')\n",
        "# plt.plot(x, y_poly_4_pred, label= \"Regression using polynomial of degree 4\", color='r')\n",
        "# plt.plot(x, y_poly_5_pred, label= \"Regression using polynomial of degree 5\", color='c')\n",
        "legend(\"bottom\")\n",
        "plt.show()\n",
        "plt.close()\n",
        "\n",
        "print(y_predicted)"
      ],
      "execution_count": null,
      "outputs": [
        {
          "output_type": "stream",
          "name": "stderr",
          "text": [
            "No handles with labels found to put in legend.\n"
          ]
        },
        {
          "output_type": "display_data",
          "data": {
            "image/png": "[encoded data removed]",
            "text/plain": [
              "<Figure size 432x288 with 1 Axes>"
            ]
          },
          "metadata": {
            "needs_background": "light"
          }
        },
        {
          "output_type": "stream",
          "name": "stdout",
          "text": [
            "[[35.83351827]\n",
            " [35.82257537]\n",
            " [35.76032383]\n",
            " [35.72934148]\n",
            " [35.65686249]\n",
            " [34.84178634]\n",
            " [34.82599348]\n",
            " [34.11248286]\n",
            " [34.03741899]\n",
            " [33.95655232]]\n"
          ]
        }
      ]
    },
    {
      "cell_type": "code",
      "metadata": {
        "colab": {
          "base_uri": "https://localhost:8080/",
          "height": 504
        },
        "id": "3ZiGtbt-l00T",
        "outputId": "cd1c6963-0d95-4c83-ef07-b69edd51217b"
      },
      "source": [
        "(feature,label)=(\"x\",\"R\")\n",
        "#Degree 4 regression and using it on fit data\n",
        "polynomial_features = PolynomialFeatures(degree=6)\n",
        "x_poly_7 = polynomial_features.fit_transform(x)\n",
        "x_test_poly_7 = polynomial_features.fit_transform(x_test)\n",
        "\n",
        "model_7 = LinearRegression()\n",
        "model_7.fit(x_poly_7, y)\n",
        "y_predicted = model_7.predict(x_test_poly_7)\n",
        "\n",
        "\n",
        "plt.scatter(x, y)\n",
        "plt.scatter(x_test, y_predicted, color = \"b\")\n",
        "\n",
        "# sort the values of x before line plot\n",
        "sort_axis = operator.itemgetter(0)\n",
        "# sorted_zip = sorted(zip(x_test,y_poly_4_pred), key=sort_axis)\n",
        "#x, y_poly_pred = zip(*sorted_zip)\n",
        "plt.xlabel(\"({0:s})\".format(feature))\n",
        "plt.ylabel(\"({0:s})\".format(label))\n",
        "# title=[]\n",
        "# title.append(plot_title)\n",
        "# plt.title(\"\\n\".join(title))\n",
        "# plt.plot(x, y_poly_3_pred, label= \"Regression using polynomial of degree 3\", color='m')\n",
        "# plt.plot(x, y_poly_4_pred, label= \"Regression using polynomial of degree 4\", color='r')\n",
        "# plt.plot(x, y_poly_5_pred, label= \"Regression using polynomial of degree 5\", color='c')\n",
        "legend(\"bottom\")\n",
        "plt.show()\n",
        "plt.close()\n",
        "\n",
        "print(y_predicted)"
      ],
      "execution_count": null,
      "outputs": [
        {
          "output_type": "stream",
          "name": "stderr",
          "text": [
            "No handles with labels found to put in legend.\n"
          ]
        },
        {
          "output_type": "display_data",
          "data": {
            "image/png": "[encoded data removed]",
            "text/plain": [
              "<Figure size 432x288 with 1 Axes>"
            ]
          },
          "metadata": {
            "needs_background": "light"
          }
        },
        {
          "output_type": "stream",
          "name": "stdout",
          "text": [
            "[[35.8955908 ]\n",
            " [35.84892693]\n",
            " [35.59093374]\n",
            " [35.46940586]\n",
            " [35.20998418]\n",
            " [34.94010995]\n",
            " [34.95472002]\n",
            " [34.36633517]\n",
            " [34.16456189]\n",
            " [33.93738375]]\n"
          ]
        }
      ]
    },
    {
      "cell_type": "markdown",
      "metadata": {
        "id": "b21PrFZbkGL1"
      },
      "source": [
        "### Save prediction as csv"
      ]
    },
    {
      "cell_type": "code",
      "metadata": {
        "colab": {
          "base_uri": "https://localhost:8080/"
        },
        "id": "4lIiSC6OTdL4",
        "outputId": "d8d1a9ad-159b-4137-8143-a97c1eb40a22"
      },
      "source": [
        "(feature,label)=(\"x\",\"R\")\n",
        "prediction_output = numpy.concatenate((numpy.round(data_test,decimals=6), y_predicted), axis=1)\n",
        "# numpy.insert(prediction_output, 1, numpy.array((feature, label)), 0)\n",
        "print(prediction_output)\n",
        "numpy.savetxt(fname=\"predicted_value.csv\", delimiter=\",\", X=prediction_output)"
      ],
      "execution_count": null,
      "outputs": [
        {
          "output_type": "stream",
          "name": "stdout",
          "text": [
            "[[ 1.088136   35.8955908 ]\n",
            " [ 1.091455   35.84892693]\n",
            " [ 1.110336   35.59093374]\n",
            " [ 1.119733   35.46940586]\n",
            " [ 1.141716   35.20998418]\n",
            " [ 1.38893    34.94010995]\n",
            " [ 1.39372    34.95472002]\n",
            " [ 1.610129   34.36633517]\n",
            " [ 1.632896   34.16456189]\n",
            " [ 1.657423   33.93738375]]\n"
          ]
        }
      ]
    },
    {
      "cell_type": "code",
      "metadata": {
        "colab": {
          "base_uri": "https://localhost:8080/"
        },
        "id": "cK655VLdjeTc",
        "outputId": "af7ae151-f7d0-4e93-f005-0ce35d16eb02"
      },
      "source": [
        "print(data_raw_train)"
      ],
      "execution_count": null,
      "outputs": [
        {
          "output_type": "stream",
          "name": "stdout",
          "text": [
            "           x         R\n",
            "0   1.018432  36.75121\n",
            "1   1.025323  36.82063\n",
            "2   1.049203  36.68162\n",
            "3   1.051312  35.85892\n",
            "4   1.057825  36.37699\n",
            "5   1.059490  36.30272\n",
            "6   1.072756  36.37304\n",
            "7   1.192729  34.84151\n",
            "8   1.195417  34.77208\n",
            "9   1.216008  34.54561\n",
            "10  1.216789  34.52916\n",
            "11  1.222137  34.52203\n",
            "12  1.254064  34.53405\n",
            "13  1.278740  34.74977\n",
            "14  1.301509  34.79375\n",
            "15  1.306668  34.89475\n",
            "16  1.344241  35.03592\n",
            "17  1.346854  34.53998\n",
            "18  1.403849  34.97194\n",
            "19  1.428769  34.71441\n",
            "20  1.438323  35.01768\n",
            "21  1.499425  35.04974\n",
            "22  1.540664  35.01926\n",
            "23  1.560127  34.79006\n",
            "24  1.574376  34.60011\n",
            "25  1.578912  34.61308\n",
            "26  1.588697  34.54656\n",
            "27  1.766393  33.00447\n",
            "28  1.847216  32.97239\n",
            "29  1.948155  33.26190\n"
          ]
        }
      ]
    },
    {
      "cell_type": "code",
      "metadata": {
        "id": "rteeFIHopuhv"
      },
      "source": [
        "lin_data_raw_train = "
      ],
      "execution_count": null,
      "outputs": []
    }
  ]
}